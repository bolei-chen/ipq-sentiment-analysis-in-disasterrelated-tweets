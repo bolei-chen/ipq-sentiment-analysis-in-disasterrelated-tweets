{
 "metadata": {
  "language_info": {
   "codemirror_mode": {
    "name": "ipython",
    "version": 3
   },
   "file_extension": ".py",
   "mimetype": "text/x-python",
   "name": "python",
   "nbconvert_exporter": "python",
   "pygments_lexer": "ipython3",
   "version": "3.7.9-final"
  },
  "orig_nbformat": 2,
  "kernelspec": {
   "name": "python3",
   "display_name": "Python 3",
   "language": "python"
  }
 },
 "nbformat": 4,
 "nbformat_minor": 2,
 "cells": [
  {
   "source": [
    "### model training"
   ],
   "cell_type": "markdown",
   "metadata": {}
  },
  {
   "cell_type": "code",
   "execution_count": 10,
   "metadata": {},
   "outputs": [],
   "source": [
    "import pickle\n",
    "from keras.models import Sequential\n",
    "from keras.layers import Embedding, LSTM, Dense, SpatialDropout1D\n",
    "from keras.initializers import Constant\n",
    "from sklearn.model_selection import train_test_split\n",
    "from keras.optimizers import Adam\n",
    "from keras.callbacks import TensorBoard\n",
    "import time"
   ]
  },
  {
   "cell_type": "code",
   "execution_count": 2,
   "metadata": {},
   "outputs": [],
   "source": [
    "## load the data\n",
    "embedding_matrix = pickle.load(open(\"/Users/brye/_/_code/_projects/sentiment-analysis-in-disaster-related-tweets/src/embedding_matrix.p\", \"rb\"))\n",
    "data = pickle.load(open(\"/Users/brye/_/_code/_projects/sentiment-analysis-in-disaster-related-tweets/src/data.p\", \"rb\"))\n",
    "training_data = pickle.load(open(\"/Users/brye/_/_code/_projects/nlp-in-disaster-prediction/src/train.p\", \"rb\"))\n",
    "\n",
    "MAX_SEQUENCE_LENGTH = 50\n",
    "EMBEDDING_DIM = 200 \n",
    "num_of_words = 16343"
   ]
  },
  {
   "cell_type": "code",
   "execution_count": 3,
   "metadata": {},
   "outputs": [
    {
     "output_type": "stream",
     "name": "stdout",
     "text": [
      "Shape of train (6471, 50)\nShape of Validation  (1142, 50)\n"
     ]
    }
   ],
   "source": [
    "train = data[:len(training_data)]\n",
    "test = data[len(training_data):]\n",
    "X_train,X_test,y_train,y_test=train_test_split(train,training_data['target'].values,test_size=0.15)\n",
    "print('Shape of train',X_train.shape)\n",
    "print(\"Shape of Validation \",X_test.shape)"
   ]
  },
  {
   "cell_type": "code",
   "execution_count": 13,
   "metadata": {},
   "outputs": [],
   "source": [
    "name = \"1-layer-lstm-{}\".format(int(time.time()))\n",
    "tensorboard = TensorBoard(log_dir='logs/{}'.format(name))\n",
    "\n",
    "model1=Sequential()\n",
    "model1.name = name\n",
    "\n",
    "embedding=Embedding(num_of_words,EMBEDDING_DIM,embeddings_initializer=Constant(embedding_matrix),\n",
    "                   input_length=MAX_SEQUENCE_LENGTH,trainable=False)\n",
    "\n",
    "model1.add(embedding)\n",
    "model1.add(SpatialDropout1D(0.2))\n",
    "model1.add(LSTM(64, dropout=0.2, recurrent_dropout=0.2))\n",
    "model1.add(Dense(1, activation='sigmoid'))\n",
    "\n",
    "\n",
    "optimzer=Adam(learning_rate=1e-5)\n",
    "\n",
    "model1.compile(loss='binary_crossentropy', optimizer=optimzer, metrics=['accuracy'])"
   ]
  },
  {
   "cell_type": "code",
   "execution_count": 14,
   "metadata": {},
   "outputs": [
    {
     "output_type": "stream",
     "name": "stdout",
     "text": [
      "Model: \"1-layer-lstm-1609333935\"\n_________________________________________________________________\nLayer (type)                 Output Shape              Param #   \n=================================================================\nembedding_3 (Embedding)      (None, 50, 200)           3268600   \n_________________________________________________________________\nspatial_dropout1d_3 (Spatial (None, 50, 200)           0         \n_________________________________________________________________\nlstm_3 (LSTM)                (None, 64)                67840     \n_________________________________________________________________\ndense_3 (Dense)              (None, 1)                 65        \n=================================================================\nTotal params: 3,336,505\nTrainable params: 67,905\nNon-trainable params: 3,268,600\n_________________________________________________________________\n"
     ]
    }
   ],
   "source": [
    "model1.summary()"
   ]
  },
  {
   "cell_type": "code",
   "execution_count": 16,
   "metadata": {},
   "outputs": [
    {
     "output_type": "stream",
     "name": "stdout",
     "text": [
      "Train on 6471 samples, validate on 1142 samples\n",
      "Epoch 1/15\n",
      "6471/6471 [==============================] - 149s 23ms/step - loss: 0.6912 - accuracy: 0.5733 - val_loss: 0.6905 - val_accuracy: 0.5473\n",
      "Epoch 2/15\n",
      "6471/6471 [==============================] - 146s 23ms/step - loss: 0.6800 - accuracy: 0.5772 - val_loss: 0.6397 - val_accuracy: 0.5806\n",
      "Epoch 3/15\n",
      "6471/6471 [==============================] - 147s 23ms/step - loss: 0.5993 - accuracy: 0.7008 - val_loss: 0.5327 - val_accuracy: 0.7618\n",
      "Epoch 4/15\n",
      "6471/6471 [==============================] - 151s 23ms/step - loss: 0.5754 - accuracy: 0.7320 - val_loss: 0.5170 - val_accuracy: 0.7627\n",
      "Epoch 5/15\n",
      "6471/6471 [==============================] - 146s 23ms/step - loss: 0.5580 - accuracy: 0.7416 - val_loss: 0.5065 - val_accuracy: 0.7697\n",
      "Epoch 6/15\n",
      "6471/6471 [==============================] - 146s 23ms/step - loss: 0.5547 - accuracy: 0.7407 - val_loss: 0.5001 - val_accuracy: 0.7767\n",
      "Epoch 7/15\n",
      "6471/6471 [==============================] - 146s 23ms/step - loss: 0.5443 - accuracy: 0.7527 - val_loss: 0.4958 - val_accuracy: 0.7811\n",
      "Epoch 8/15\n",
      "6471/6471 [==============================] - 148s 23ms/step - loss: 0.5446 - accuracy: 0.7520 - val_loss: 0.4911 - val_accuracy: 0.7837\n",
      "Epoch 9/15\n",
      "6471/6471 [==============================] - 147s 23ms/step - loss: 0.5414 - accuracy: 0.7527 - val_loss: 0.4903 - val_accuracy: 0.7793\n",
      "Epoch 10/15\n",
      "6471/6471 [==============================] - 154s 24ms/step - loss: 0.5357 - accuracy: 0.7568 - val_loss: 0.4877 - val_accuracy: 0.7820\n",
      "Epoch 11/15\n",
      "6471/6471 [==============================] - 194s 30ms/step - loss: 0.5353 - accuracy: 0.7586 - val_loss: 0.4865 - val_accuracy: 0.7820\n",
      "Epoch 12/15\n",
      "6471/6471 [==============================] - 143s 22ms/step - loss: 0.5348 - accuracy: 0.7594 - val_loss: 0.4836 - val_accuracy: 0.7863\n",
      "Epoch 13/15\n",
      "6471/6471 [==============================] - 142s 22ms/step - loss: 0.5237 - accuracy: 0.7693 - val_loss: 0.4810 - val_accuracy: 0.7890\n",
      "Epoch 14/15\n",
      "6471/6471 [==============================] - 143s 22ms/step - loss: 0.5267 - accuracy: 0.7643 - val_loss: 0.4793 - val_accuracy: 0.7907\n",
      "Epoch 15/15\n",
      "6471/6471 [==============================] - 142s 22ms/step - loss: 0.5359 - accuracy: 0.7614 - val_loss: 0.4769 - val_accuracy: 0.7942\n"
     ]
    }
   ],
   "source": [
    "history1 = model1.fit(X_train, y_train, batch_size=4,epochs=15, validation_data=(X_test,y_test), callbacks=[tensorboard])"
   ]
  },
  {
   "cell_type": "code",
   "execution_count": 17,
   "metadata": {},
   "outputs": [],
   "source": [
    "model1.save(\"1-layer-lstm-1609333935\")"
   ]
  },
  {
   "cell_type": "code",
   "execution_count": null,
   "metadata": {},
   "outputs": [],
   "source": []
  }
 ]
}